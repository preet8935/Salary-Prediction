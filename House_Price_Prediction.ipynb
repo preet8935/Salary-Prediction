{
  "nbformat": 4,
  "nbformat_minor": 0,
  "metadata": {
    "colab": {
      "name": "House Price Prediction.ipynb",
      "provenance": [],
      "toc_visible": true,
      "authorship_tag": "ABX9TyPXi0OLj6sfuTejai/O5hrV",
      "include_colab_link": true
    },
    "kernelspec": {
      "name": "python3",
      "display_name": "Python 3"
    }
  },
  "cells": [
    {
      "cell_type": "markdown",
      "metadata": {
        "id": "view-in-github",
        "colab_type": "text"
      },
      "source": [
        "<a href=\"https://colab.research.google.com/github/preet8935/Salary-Prediction/blob/master/House_Price_Prediction.ipynb\" target=\"_parent\"><img src=\"https://colab.research.google.com/assets/colab-badge.svg\" alt=\"Open In Colab\"/></a>"
      ]
    },
    {
      "cell_type": "code",
      "metadata": {
        "id": "Dbnt4q2QgpVx",
        "colab_type": "code",
        "colab": {}
      },
      "source": [
        "import numpy as np\n",
        "import matplotlib.pyplot as plt\n",
        "from sklearn.datasets import make_regression"
      ],
      "execution_count": 100,
      "outputs": []
    },
    {
      "cell_type": "code",
      "metadata": {
        "id": "AfxN703FjLvx",
        "colab_type": "code",
        "colab": {}
      },
      "source": [
        "bias=200\n",
        "X, y, coef=make_regression(n_features=1, noise=10, bias=bias, random_state=42,coef= True)"
      ],
      "execution_count": 101,
      "outputs": []
    },
    {
      "cell_type": "code",
      "metadata": {
        "id": "KMDDkBGmjLy8",
        "colab_type": "code",
        "colab": {
          "base_uri": "https://localhost:8080/",
          "height": 34
        },
        "outputId": "e48b1c45-a65d-40b3-9e7e-55756e5a4112"
      },
      "source": [
        "X.shape, y.shape"
      ],
      "execution_count": 102,
      "outputs": [
        {
          "output_type": "execute_result",
          "data": {
            "text/plain": [
              "((100, 1), (100,))"
            ]
          },
          "metadata": {
            "tags": []
          },
          "execution_count": 102
        }
      ]
    },
    {
      "cell_type": "code",
      "metadata": {
        "id": "FlcesDdljL3x",
        "colab_type": "code",
        "colab": {
          "base_uri": "https://localhost:8080/",
          "height": 282
        },
        "outputId": "4366fc61-b817-4ebe-ec32-ebbf3bacd248"
      },
      "source": [
        "plt.scatter(X,y)"
      ],
      "execution_count": 103,
      "outputs": [
        {
          "output_type": "execute_result",
          "data": {
            "text/plain": [
              "<matplotlib.collections.PathCollection at 0x7f35c9ca1b00>"
            ]
          },
          "metadata": {
            "tags": []
          },
          "execution_count": 103
        },
        {
          "output_type": "display_data",
          "data": {
            "image/png": "[encoded data removed]",
            "text/plain": [
              "<Figure size 432x288 with 1 Axes>"
            ]
          },
          "metadata": {
            "tags": [],
            "needs_background": "light"
          }
        }
      ]
    },
    {
      "cell_type": "code",
      "metadata": {
        "id": "Xj39JzrHjL6x",
        "colab_type": "code",
        "colab": {
          "base_uri": "https://localhost:8080/",
          "height": 34
        },
        "outputId": "1c89e6ef-6039-4c4c-b6dd-9fb68dbb8bae"
      },
      "source": [
        "coef, bias #m,c from sklearn"
      ],
      "execution_count": 104,
      "outputs": [
        {
          "output_type": "execute_result",
          "data": {
            "text/plain": [
              "(array(41.74110031), 200)"
            ]
          },
          "metadata": {
            "tags": []
          },
          "execution_count": 104
        }
      ]
    },
    {
      "cell_type": "code",
      "metadata": {
        "id": "tVxIm5k8jMAx",
        "colab_type": "code",
        "colab": {}
      },
      "source": [
        "y_gen = X*coef +bias #equation of line"
      ],
      "execution_count": 105,
      "outputs": []
    },
    {
      "cell_type": "code",
      "metadata": {
        "id": "EatBSu4njMEH",
        "colab_type": "code",
        "colab": {
          "base_uri": "https://localhost:8080/",
          "height": 282
        },
        "outputId": "f613a633-925a-41fe-ae6e-55fd0227bde2"
      },
      "source": [
        "plt.scatter(X,y_gen)\n",
        "plt.plot(X,y_gen)"
      ],
      "execution_count": 106,
      "outputs": [
        {
          "output_type": "execute_result",
          "data": {
            "text/plain": [
              "[<matplotlib.lines.Line2D at 0x7f35c9f73ac8>]"
            ]
          },
          "metadata": {
            "tags": []
          },
          "execution_count": 106
        },
        {
          "output_type": "display_data",
          "data": {
            "image/png": "[encoded data removed]",
            "text/plain": [
              "<Figure size 432x288 with 1 Axes>"
            ]
          },
          "metadata": {
            "tags": [],
            "needs_background": "light"
          }
        }
      ]
    },
    {
      "cell_type": "code",
      "metadata": {
        "id": "M4i4bKy3jMJk",
        "colab_type": "code",
        "colab": {
          "base_uri": "https://localhost:8080/",
          "height": 282
        },
        "outputId": "4ebe0274-5f49-4f11-82f4-f7d03b4a5017"
      },
      "source": [
        "plt.scatter(X, y)\n",
        "plt.plot(X, y_gen)"
      ],
      "execution_count": 107,
      "outputs": [
        {
          "output_type": "execute_result",
          "data": {
            "text/plain": [
              "[<matplotlib.lines.Line2D at 0x7f35c9c03438>]"
            ]
          },
          "metadata": {
            "tags": []
          },
          "execution_count": 107
        },
        {
          "output_type": "display_data",
          "data": {
            "image/png": "[encoded data removed]",
            "text/plain": [
              "<Figure size 432x288 with 1 Axes>"
            ]
          },
          "metadata": {
            "tags": [],
            "needs_background": "light"
          }
        }
      ]
    },
    {
      "cell_type": "code",
      "metadata": {
        "id": "uiiXdek7jMHY",
        "colab_type": "code",
        "colab": {}
      },
      "source": [
        "#lets aplot a line using linear regression\n",
        "from sklearn.linear_model import LinearRegression"
      ],
      "execution_count": 108,
      "outputs": []
    },
    {
      "cell_type": "code",
      "metadata": {
        "id": "6WEARv6TjL-6",
        "colab_type": "code",
        "colab": {
          "base_uri": "https://localhost:8080/",
          "height": 34
        },
        "outputId": "b13616f4-6312-4259-8073-6330e8d3f37f"
      },
      "source": [
        "model= LinearRegression()\n",
        "model.fit(X,y) "
      ],
      "execution_count": 109,
      "outputs": [
        {
          "output_type": "execute_result",
          "data": {
            "text/plain": [
              "LinearRegression(copy_X=True, fit_intercept=True, n_jobs=None, normalize=False)"
            ]
          },
          "metadata": {
            "tags": []
          },
          "execution_count": 109
        }
      ]
    },
    {
      "cell_type": "code",
      "metadata": {
        "id": "wPWmCqeijL2Q",
        "colab_type": "code",
        "colab": {
          "base_uri": "https://localhost:8080/",
          "height": 34
        },
        "outputId": "2e8501be-3103-43d0-86a7-9390909f6dd1"
      },
      "source": [
        "model.coef_, model.intercept_"
      ],
      "execution_count": 110,
      "outputs": [
        {
          "output_type": "execute_result",
          "data": {
            "text/plain": [
              "(array([44.43716999]), 201.16511532052695)"
            ]
          },
          "metadata": {
            "tags": []
          },
          "execution_count": 110
        }
      ]
    },
    {
      "cell_type": "code",
      "metadata": {
        "id": "uhoAgdMNnTT2",
        "colab_type": "code",
        "colab": {
          "base_uri": "https://localhost:8080/",
          "height": 282
        },
        "outputId": "6b322427-c511-41bb-f12e-d4a6a79681da"
      },
      "source": [
        "plt.scatter(X, y)\n",
        "plt.plot(X, y_gen, label=\"Pre\")\n",
        "plt.plot(X, model.predict(X), label=\"LR\")\n",
        "plt.legend()\n"
      ],
      "execution_count": 111,
      "outputs": [
        {
          "output_type": "execute_result",
          "data": {
            "text/plain": [
              "<matplotlib.legend.Legend at 0x7f35cc4f6a20>"
            ]
          },
          "metadata": {
            "tags": []
          },
          "execution_count": 111
        },
        {
          "output_type": "display_data",
          "data": {
            "image/png": "[encoded data removed]",
            "text/plain": [
              "<Figure size 432x288 with 1 Axes>"
            ]
          },
          "metadata": {
            "tags": [],
            "needs_background": "light"
          }
        }
      ]
    },
    {
      "cell_type": "code",
      "metadata": {
        "id": "v0CXLOpbnTYq",
        "colab_type": "code",
        "colab": {}
      },
      "source": [
        "class LinearRegCustom:\n",
        "     #constructor\n",
        "    def __init__(self,lr=0.1):\n",
        "       self.lr=lr\n",
        "    \n",
        "     #training fxn i.e. fit\n",
        "    def fit(self, X, y):\n",
        "        self._X = X # _X mock behavior like private\n",
        "        self._y = y.reshape(-1, 1) # do calculations, else it will give error due to some numpy shape\n",
        "             \n",
        "        # need to figure out value of coef & intercept\n",
        "        # step 1: pick these values at random \n",
        "\n",
        "        self.coef_ = np.random.random()\n",
        "        self.intercept_ = np.random.random()\n",
        "\n",
        "        # gradient descent\n",
        "        errors = []\n",
        "        \n",
        "        # lets say we do this 50 times\n",
        "        for i in range(50):\n",
        "          self.gradient_decend()\n",
        "          errors.append(self.error())\n",
        "        return errors\n",
        "    def gradient_decend(self):\n",
        "        # change in coef and intercept\n",
        "        d_coef, d_intercept = self.gradient()\n",
        "        self.coef_ -= d_coef * self.lr\n",
        "        self.intercept_ -= d_intercept * self.lr\n",
        "    \n",
        "    def gradient(self):\n",
        "        yh = self.predict(self._X) # from predict funtion\n",
        "        \n",
        "        d_coef = ((yh - self._y) * self._X).mean()\n",
        "        d_intercept = (yh - self._y).mean()\n",
        "        \n",
        "        return d_coef, d_intercept\n",
        "    \n",
        "    def predict(self, X):\n",
        "        return X * self.coef_ + self.intercept_\n",
        "    \n",
        "    def error(self):\n",
        "        return ((self.predict(self._X) - self._y) ** 2).sum()\n",
        "\n",
        "        \n",
        "\n"
      ],
      "execution_count": 112,
      "outputs": []
    },
    {
      "cell_type": "code",
      "metadata": {
        "id": "3FnOZEcanTcY",
        "colab_type": "code",
        "colab": {}
      },
      "source": [
        "model = LinearRegCustom(lr=.1)\n"
      ],
      "execution_count": 113,
      "outputs": []
    },
    {
      "cell_type": "code",
      "metadata": {
        "colab_type": "code",
        "id": "Vv8jPuW1r7NV",
        "colab": {
          "base_uri": "https://localhost:8080/",
          "height": 34
        },
        "outputId": "d67ecb80-0fcd-4d74-a9fb-2d7fbd6c1600"
      },
      "source": [
        "errors = model.fit(X, y)\n",
        "model.coef_, model.intercept_\n"
      ],
      "execution_count": 114,
      "outputs": [
        {
          "output_type": "execute_result",
          "data": {
            "text/plain": [
              "(42.73688036819178, 199.66133126321668)"
            ]
          },
          "metadata": {
            "tags": []
          },
          "execution_count": 114
        }
      ]
    },
    {
      "cell_type": "code",
      "metadata": {
        "id": "EqF8fvDanTgU",
        "colab_type": "code",
        "colab": {
          "base_uri": "https://localhost:8080/",
          "height": 282
        },
        "outputId": "80d59fb4-248d-4fc4-9b4a-64a06cdf06d2"
      },
      "source": [
        "plt.scatter(X, y)\n",
        "plt.plot(X, y_gen, label=\"Pre\")\n",
        "plt.plot(X, model.predict(X), label=\"CLR\")\n",
        "plt.legend()"
      ],
      "execution_count": 115,
      "outputs": [
        {
          "output_type": "execute_result",
          "data": {
            "text/plain": [
              "<matplotlib.legend.Legend at 0x7f35c9fa3898>"
            ]
          },
          "metadata": {
            "tags": []
          },
          "execution_count": 115
        },
        {
          "output_type": "display_data",
          "data": {
            "image/png": "[encoded data removed]",
            "text/plain": [
              "<Figure size 432x288 with 1 Axes>"
            ]
          },
          "metadata": {
            "tags": [],
            "needs_background": "light"
          }
        }
      ]
    },
    {
      "cell_type": "code",
      "metadata": {
        "id": "WeVZ3IctsOFJ",
        "colab_type": "code",
        "colab": {
          "base_uri": "https://localhost:8080/",
          "height": 293
        },
        "outputId": "00b8addb-8c0b-45ba-9922-06d91b112f60"
      },
      "source": [
        "plt.plot(errors)\n"
      ],
      "execution_count": 116,
      "outputs": [
        {
          "output_type": "execute_result",
          "data": {
            "text/plain": [
              "[<matplotlib.lines.Line2D at 0x7f35ca35ee10>]"
            ]
          },
          "metadata": {
            "tags": []
          },
          "execution_count": 116
        },
        {
          "output_type": "display_data",
          "data": {
            "image/png": "[encoded data removed]",
            "text/plain": [
              "<Figure size 432x288 with 1 Axes>"
            ]
          },
          "metadata": {
            "tags": [],
            "needs_background": "light"
          }
        }
      ]
    },
    {
      "cell_type": "code",
      "metadata": {
        "id": "srC8R7KNsOTi",
        "colab_type": "code",
        "colab": {}
      },
      "source": [
        ""
      ],
      "execution_count": 116,
      "outputs": []
    },
    {
      "cell_type": "markdown",
      "metadata": {
        "id": "C3geqLsusb2o",
        "colab_type": "text"
      },
      "source": [
        "#Salary Prediction using Linear Regression\n",
        "\n"
      ]
    },
    {
      "cell_type": "markdown",
      "metadata": {
        "id": "0OjFALScsfui",
        "colab_type": "text"
      },
      "source": [
        ""
      ]
    },
    {
      "cell_type": "code",
      "metadata": {
        "id": "f1ofHxXmsOXv",
        "colab_type": "code",
        "colab": {}
      },
      "source": [
        "import pandas as pd\n",
        "from sklearn.model_selection import train_test_split\n"
      ],
      "execution_count": 117,
      "outputs": []
    },
    {
      "cell_type": "code",
      "metadata": {
        "id": "RaN-QN0VwZ3e",
        "colab_type": "code",
        "colab": {}
      },
      "source": [
        "dataset = pd.read_csv(\"Salary_Data.csv\")\n",
        "X = dataset.iloc[:, :-1].values\n",
        "y = dataset.iloc[:, 1].values\n"
      ],
      "execution_count": 118,
      "outputs": []
    },
    {
      "cell_type": "code",
      "metadata": {
        "id": "dqPvSn6OsOeC",
        "colab_type": "code",
        "colab": {}
      },
      "source": [
        "X_train, X_test, y_train, y_test = train_test_split(X, y, test_size=0.33, random_state=42)\n"
      ],
      "execution_count": 119,
      "outputs": []
    },
    {
      "cell_type": "code",
      "metadata": {
        "id": "fHeJ-TTYsOhP",
        "colab_type": "code",
        "colab": {
          "base_uri": "https://localhost:8080/",
          "height": 34
        },
        "outputId": "4576eaba-8ae3-4f29-8954-ab8c129dbe16"
      },
      "source": [
        "model = LinearRegression()\n",
        "model.fit(X_train, y_train)"
      ],
      "execution_count": 120,
      "outputs": [
        {
          "output_type": "execute_result",
          "data": {
            "text/plain": [
              "LinearRegression(copy_X=True, fit_intercept=True, n_jobs=None, normalize=False)"
            ]
          },
          "metadata": {
            "tags": []
          },
          "execution_count": 120
        }
      ]
    },
    {
      "cell_type": "markdown",
      "metadata": {
        "id": "XZ7kayMbsOmi",
        "colab_type": "text"
      },
      "source": [
        ""
      ]
    },
    {
      "cell_type": "code",
      "metadata": {
        "id": "gxWhJbn9sOp2",
        "colab_type": "code",
        "colab": {
          "base_uri": "https://localhost:8080/",
          "height": 51
        },
        "outputId": "e2a7812a-c7d9-498f-8c0f-96e811a7065c"
      },
      "source": [
        "model.predict(X_test[:5])\n"
      ],
      "execution_count": 121,
      "outputs": [
        {
          "output_type": "execute_result",
          "data": {
            "text/plain": [
              "array([115814.30756236,  71511.92534771, 102617.85328566,  75282.34085534,\n",
              "        55487.65944028])"
            ]
          },
          "metadata": {
            "tags": []
          },
          "execution_count": 121
        }
      ]
    },
    {
      "cell_type": "code",
      "metadata": {
        "id": "fWdt1UcWsOkN",
        "colab_type": "code",
        "colab": {
          "base_uri": "https://localhost:8080/",
          "height": 34
        },
        "outputId": "d9b7c754-700e-4fea-b5aa-a333c7d4d655"
      },
      "source": [
        "y_test[:5]\n"
      ],
      "execution_count": 122,
      "outputs": [
        {
          "output_type": "execute_result",
          "data": {
            "text/plain": [
              "array([112635.,  67938., 113812.,  83088.,  64445.])"
            ]
          },
          "metadata": {
            "tags": []
          },
          "execution_count": 122
        }
      ]
    },
    {
      "cell_type": "code",
      "metadata": {
        "id": "taqSzkkPxliP",
        "colab_type": "code",
        "colab": {
          "base_uri": "https://localhost:8080/",
          "height": 34
        },
        "outputId": "76ceeeb9-7edc-435b-ca9d-f0e7dc488daf"
      },
      "source": [
        "model.score(X_test, y_test)\n"
      ],
      "execution_count": 123,
      "outputs": [
        {
          "output_type": "execute_result",
          "data": {
            "text/plain": [
              "0.9553063138044949"
            ]
          },
          "metadata": {
            "tags": []
          },
          "execution_count": 123
        }
      ]
    },
    {
      "cell_type": "code",
      "metadata": {
        "id": "CWCT4h1Kxlm8",
        "colab_type": "code",
        "colab": {}
      },
      "source": [
        "yrs = int(input(\"How many yrs of experience do you have: \"))\n",
        "sal = model.predict(np.array([yrs]).reshape(-1, 1))\n",
        "print(\"\\nYour estimated salary is $\", round(sal[0], 3))\n"
      ],
      "execution_count": null,
      "outputs": []
    },
    {
      "cell_type": "code",
      "metadata": {
        "id": "f5LJg8A_xleL",
        "colab_type": "code",
        "colab": {}
      },
      "source": [
        ""
      ],
      "execution_count": null,
      "outputs": []
    },
    {
      "cell_type": "code",
      "metadata": {
        "id": "ypA-uUWfxlb0",
        "colab_type": "code",
        "colab": {}
      },
      "source": [
        ""
      ],
      "execution_count": null,
      "outputs": []
    }
  ]
}